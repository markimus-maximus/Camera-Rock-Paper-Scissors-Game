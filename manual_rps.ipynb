{
 "cells": [
  {
   "cell_type": "code",
   "execution_count": 24,
   "metadata": {},
   "outputs": [
    {
     "data": {
      "text/plain": [
       "'Paper'"
      ]
     },
     "execution_count": 24,
     "metadata": {},
     "output_type": "execute_result"
    }
   ],
   "source": [
    "def get_computer_choice():\n",
    "    import random as rd\n",
    "    list = [\"Rock\", \"Scissors\", \"Paper\"]\n",
    "    global computer\n",
    "    computer = (rd.choice(list))\n",
    "    return computer\n",
    "\n",
    "get_computer_choice()\n",
    "       "
   ]
  },
  {
   "cell_type": "code",
   "execution_count": 25,
   "metadata": {},
   "outputs": [
    {
     "data": {
      "text/plain": [
       "'Rock'"
      ]
     },
     "execution_count": 25,
     "metadata": {},
     "output_type": "execute_result"
    }
   ],
   "source": [
    "def get_user_choice():\n",
    "    global user \n",
    "    user = input(\"What\\'s your choice? \")\n",
    "    return user\n",
    "\n",
    "get_user_choice()\n",
    "\n",
    "\n",
    "\n",
    "   "
   ]
  },
  {
   "cell_type": "code",
   "execution_count": 26,
   "metadata": {},
   "outputs": [
    {
     "data": {
      "text/plain": [
       "'Computer wins!'"
      ]
     },
     "execution_count": 26,
     "metadata": {},
     "output_type": "execute_result"
    }
   ],
   "source": [
    "def get_winner(computer_choice, user_choice):\n",
    "    if computer == 'Rock' and user == 'Scissors':\n",
    "        return('Computer wins!')\n",
    "    elif computer == 'Scissors' and user == 'Rock':\n",
    "        return('You win!')\n",
    "    elif computer == 'Scissors' and user == 'Paper':\n",
    "        return('Computer wins!')\n",
    "    elif computer == 'Paper' and user == 'Scissors':\n",
    "        return('You win!')\n",
    "    elif computer == 'Paper' and user == 'Rock':\n",
    "        return('Computer wins!')\n",
    "    elif computer == 'Rock' and user == 'Paper':\n",
    "        return('You win!')\n",
    "    elif computer ==  user:\n",
    "        return('It\\'s a draw!')\n",
    "    else: print('Make your move using \"Rock, Scissors or Paper\"')\n",
    "    \n",
    "get_winner(computer, user)    \n",
    "\n",
    "\n",
    "\n",
    "    \n",
    "    \n",
    "    \n"
   ]
  },
  {
   "cell_type": "code",
   "execution_count": 27,
   "metadata": {},
   "outputs": [
    {
     "name": "stdout",
     "output_type": "stream",
     "text": [
      "You chose Rock\n",
      "The computer chooses Paper\n",
      "Computer wins!\n"
     ]
    }
   ],
   "source": [
    "def play():\n",
    "    print('You chose', user)\n",
    "    print('The computer chooses', computer)\n",
    "    print(get_winner(computer, user))\n",
    "    \n",
    "play()"
   ]
  }
 ],
 "metadata": {
  "kernelspec": {
   "display_name": "Python 3.10.5 64-bit",
   "language": "python",
   "name": "python3"
  },
  "language_info": {
   "codemirror_mode": {
    "name": "ipython",
    "version": 3
   },
   "file_extension": ".py",
   "mimetype": "text/x-python",
   "name": "python",
   "nbconvert_exporter": "python",
   "pygments_lexer": "ipython3",
   "version": "3.10.5"
  },
  "orig_nbformat": 4,
  "vscode": {
   "interpreter": {
    "hash": "0b4158c0de3566b734c6172715d060306cc14fb8cdd06f96dd34f7949c2579b4"
   }
  }
 },
 "nbformat": 4,
 "nbformat_minor": 2
}
