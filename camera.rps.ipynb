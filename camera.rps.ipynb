{
 "cells": [
  {
   "cell_type": "code",
   "execution_count": 41,
   "metadata": {},
   "outputs": [
    {
     "name": "stdout",
     "output_type": "stream",
     "text": [
      "Paper\n"
     ]
    },
    {
     "data": {
      "text/plain": [
       "'Paper'"
      ]
     },
     "execution_count": 41,
     "metadata": {},
     "output_type": "execute_result"
    }
   ],
   "source": [
    "def get_computer_choice():\n",
    "    import random as rd\n",
    "    list = [\"Rock\", \"Scissors\", \"Paper\"]\n",
    "    global computer\n",
    "    computer = (rd.choice(list))\n",
    "    print(computer)\n",
    "    return computer\n",
    "\n",
    "get_computer_choice()\n",
    "\n"
   ]
  },
  {
   "cell_type": "code",
   "execution_count": 72,
   "metadata": {},
   "outputs": [
    {
     "name": "stdout",
     "output_type": "stream",
     "text": [
      "00:01\r"
     ]
    },
    {
     "data": {
      "text/plain": [
       "0"
      ]
     },
     "execution_count": 72,
     "metadata": {},
     "output_type": "execute_result"
    }
   ],
   "source": [
    "import time\n",
    "\n",
    "def countdown(t):\n",
    "     while t > 0 :\n",
    "        mins, secs = divmod(t, 60)\n",
    "        timer = '{:02d}:{:02d}'.format(mins, secs)\n",
    "        print(timer, end=\"\\r\")\n",
    "        time.sleep(1)\n",
    "        t -= 1\n",
    "        \n",
    "     return t\n",
    "\n",
    "countdown(3)\n",
    "    \n"
   ]
  },
  {
   "cell_type": "code",
   "execution_count": 79,
   "metadata": {},
   "outputs": [],
   "source": [
    "\n",
    "\n",
    "def get_prediction():\n",
    "    import cv2\n",
    "    import time\n",
    "    from keras.models import load_model\n",
    "    import numpy as np\n",
    "    model = load_model('keras_model.h5')\n",
    "    cap = cv2.VideoCapture(0)\n",
    "    # Create the array of the right shape to feed into the keras model\n",
    "# The 'length' or number of images you can put into the array is\n",
    "# determined by the first position in the shape tuple, in this case 1.\n",
    "    data = np.ndarray(shape=(1, 224, 224, 3), dtype=np.float32)\n",
    "\n",
    "       \n",
    "    t = 5\n",
    "    while t > 0:\n",
    "        mins, secs = divmod(t, 60)\n",
    "        timer = '{:02d}:{:02d}'.format(mins, secs)\n",
    "        print(timer, end=\"\\r\")\n",
    "        time.sleep(1)\n",
    "        t -= 1\n",
    "        \n",
    "    \n",
    "\n",
    "  \n",
    "    \n",
    "        ret, frame = cap.read()\n",
    "        \n",
    "        \n",
    "        #resize the image to a 224x224 with the same strategy as in TM2:\n",
    "#resizing the image to be at least 224x224 and then cropping from the center\n",
    "        resized_frame = cv2.resize(frame, (224, 224), interpolation = cv2.INTER_AREA)\n",
    "        #turn the image into a numpy array\n",
    "        image_np = np.array(resized_frame)\n",
    "        normalized_image = (image_np.astype(np.float32) / 127.0) - 1 # Normalize the image\n",
    "        # Load the image into the array\n",
    "        data[0] = normalized_image\n",
    "        global prediction\n",
    "        prediction = model.predict(data)\n",
    "\n",
    "        if prediction[0][0] > 0.5:\n",
    "            print('Rock')\n",
    "        elif prediction[0][1] > 0.5:\n",
    "            print('Paper')\n",
    "        elif prediction[0][2] > 0.5:\n",
    "            print('Scissors')\n",
    "        else: \n",
    "            print('Nothing')\n",
    "        cv2.imshow('frame', frame)\n",
    "        # Press q to close the window\n",
    "        print(prediction)\n",
    "        if cv2.waitKey(1) & 0xFF == ord('q'):\n",
    "            break\n",
    "\n",
    "\n",
    "    # After the loop release the cap object\n",
    "    cap.release()\n",
    "    # Destroy all the windows\n",
    "    cv2.destroyAllWindows()\n",
    "   \n",
    "    \n",
    "\n",
    "    if prediction[0][0] > 0.5:\n",
    "        prediction = 'Rock'\n",
    "    elif prediction[0][1] > 0.5:\n",
    "        prediction = 'Paper'\n",
    "    elif prediction[0][2] > 0.5:\n",
    "        prediction = 'Scissors'\n",
    "    else: \n",
    "        prediction = Nothing \n",
    "    \n",
    "    return prediction\n",
    "\n",
    "    \n",
    "\n",
    " \n",
    "\n"
   ]
  },
  {
   "cell_type": "code",
   "execution_count": 80,
   "metadata": {},
   "outputs": [
    {
     "name": "stdout",
     "output_type": "stream",
     "text": [
      "WARNING:tensorflow:No training configuration found in the save file, so the model was *not* compiled. Compile it manually.\n",
      "1/1 [==============================] - 1s 549ms/step\n",
      "Nothing\n",
      "[[9.9429544e-03 5.5402466e-05 3.7730226e-01 6.1269939e-01]]\n",
      "1/1 [==============================] - 0s 33ms/step\n",
      "Nothing\n",
      "[[1.4647284e-02 3.2919652e-05 2.3464684e-01 7.5067294e-01]]\n",
      "1/1 [==============================] - 0s 37ms/step\n",
      "Paper\n",
      "[[2.6181564e-07 9.9995327e-01 4.6261779e-05 1.9302753e-07]]\n",
      "1/1 [==============================] - 0s 32ms/step\n",
      "Paper\n",
      "[[1.0536272e-06 9.9970102e-01 2.9546695e-04 2.4634928e-06]]\n",
      "1/1 [==============================] - 0s 31ms/step\n",
      "Paper\n",
      "[[2.6264158e-06 9.9906892e-01 9.2562148e-04 2.8555107e-06]]\n"
     ]
    },
    {
     "data": {
      "text/plain": [
       "'Paper'"
      ]
     },
     "execution_count": 80,
     "metadata": {},
     "output_type": "execute_result"
    }
   ],
   "source": [
    "get_prediction()"
   ]
  },
  {
   "cell_type": "code",
   "execution_count": 82,
   "metadata": {},
   "outputs": [],
   "source": [
    "def get_winner(computer_guess, model_prediction):\n",
    "\n",
    "  \n",
    "\n",
    "    if computer == 'Rock' and prediction == 'Scissors':\n",
    "        return('Computer wins!')\n",
    "    elif computer == 'Scissors' and prediction == 'Rock':\n",
    "        return('You win!')\n",
    "    elif computer == 'Scissors' and prediction == 'Paper':\n",
    "        return('Computer wins!')\n",
    "    elif computer == 'Paper' and prediction == 'Scissors':\n",
    "        return('You win!')\n",
    "    elif computer == 'Paper' and prediction == 'Rock':\n",
    "        return('Computer wins!')\n",
    "    elif computer == 'Rock' and prediction == 'Paper':\n",
    "        return('You win!')\n",
    "    elif computer ==  prediction:\n",
    "        return('It\\'s a draw!')\n",
    "    else: print('Make your move using \"Rock, Scissors or Paper\"')\n",
    "    \n",
    "    get_winner(computer, prediction) "
   ]
  },
  {
   "cell_type": "code",
   "execution_count": 84,
   "metadata": {},
   "outputs": [
    {
     "name": "stdout",
     "output_type": "stream",
     "text": [
      "Rock\n",
      "WARNING:tensorflow:No training configuration found in the save file, so the model was *not* compiled. Compile it manually.\n",
      "1/1 [==============================] - 1s 545ms/step\n",
      "Nothing\n",
      "[[0.24381651 0.00160756 0.04735811 0.7072179 ]]\n",
      "1/1 [==============================] - 0s 31ms/step\n",
      "Nothing\n",
      "[[0.11546766 0.003104   0.44918326 0.43224505]]\n",
      "1/1 [==============================] - 0s 34ms/step\n",
      "Rock\n",
      "[[8.6942166e-01 4.6203221e-04 4.5924596e-03 1.2552390e-01]]\n",
      "1/1 [==============================] - 0s 30ms/step\n",
      "Rock\n",
      "[[0.71895343 0.00323712 0.01804304 0.25976637]]\n",
      "1/1 [==============================] - 0s 30ms/step\n",
      "Rock\n",
      "[[8.3670062e-01 3.6151859e-04 1.8794424e-03 1.6105847e-01]]\n",
      "You chose Rock\n",
      "The computer chooses Rock\n",
      "It's a draw!\n"
     ]
    }
   ],
   "source": [
    "def play():\n",
    "    get_computer_choice()\n",
    "    get_prediction()\n",
    "    get_winner(computer, prediction)\n",
    "    print('You chose', prediction)\n",
    "    print('The computer chooses', computer)\n",
    "    print(get_winner(computer, prediction))\n",
    "        \n",
    "play()"
   ]
  },
  {
   "cell_type": "code",
   "execution_count": null,
   "metadata": {},
   "outputs": [],
   "source": [
    "class first_to_3():\n",
    "    \n",
    "    \n"
   ]
  },
  {
   "cell_type": "code",
   "execution_count": null,
   "metadata": {},
   "outputs": [],
   "source": []
  }
 ],
 "metadata": {
  "kernelspec": {
   "display_name": "Python 3.10.5 64-bit",
   "language": "python",
   "name": "python3"
  },
  "language_info": {
   "codemirror_mode": {
    "name": "ipython",
    "version": 3
   },
   "file_extension": ".py",
   "mimetype": "text/x-python",
   "name": "python",
   "nbconvert_exporter": "python",
   "pygments_lexer": "ipython3",
   "version": "3.10.5"
  },
  "orig_nbformat": 4,
  "vscode": {
   "interpreter": {
    "hash": "0b4158c0de3566b734c6172715d060306cc14fb8cdd06f96dd34f7949c2579b4"
   }
  }
 },
 "nbformat": 4,
 "nbformat_minor": 2
}
